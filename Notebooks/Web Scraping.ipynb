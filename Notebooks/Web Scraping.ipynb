{
 "cells": [
  {
   "cell_type": "code",
   "execution_count": 2,
   "metadata": {},
   "outputs": [],
   "source": [
    "# Mechanical Engineering books url\n",
    "mech_urls1 = ['https://1lib.in/s/principle%20of%20management','https://1lib.in/s/engineering%20mathematics',\n",
    "       'https://1lib.in/s/engineering%20physics','https://1lib.in/s/engineering%20chemistry',\n",
    "       'https://1lib.in/s/problem%20solving%20in%20python%20programming','https://1lib.in/s/engineering%20graphics',\n",
    "       'https://1lib.in/s/material%20science','https://1lib.in/s/basic%20electrical%20and%20instrumentation%20engineering',\n",
    "       'https://1lib.in/s/engineering%20mechanics','https://1lib.in/s/transform%20and%20partial%20differential%20equation',]\n",
    "mech_urls2 = ['https://1lib.in/s/engineering%20thermodynamics','https://1lib.in/s/fluid%20mechanics%20and%20machinery',\n",
    "       'https://1lib.in/s/manufacturing%20technology%20','https://1lib.in/s/electrical%20drives%20and%20control',\n",
    "       'https://1lib.in/s/computer%20aided%20and%20drawing','https://1lib.in/s/statistics%20and%20numerical%20method',\n",
    "       'https://1lib.in/s/kinematics%20of%20machinery','https://1lib.in/s/engineering%20metallurgy',\n",
    "       'https://1lib.in/s/strength%20of%20materials%20for%20mechanical%20engineering','https://1lib.in/s/thermal%20engineering',]\n",
    "mech_urls3 = ['https://1lib.in/s/design%20of%20machine%20elements','https://1lib.in/s/metrology%20and%20measurements',\n",
    "       'https://1lib.in/s/dynamics%20of%20machines','https://1lib.in/s/design%20of%20transmission%20system',\n",
    "       'https://1lib.in/s/heat%20and%20mass%20transfer','https://1lib.in/s/finite%20element%20analysis',\n",
    "       'https://1lib.in/s/hydraulics%20and%20pneumatics','https://1lib.in/s/power%20plant%20engineering',\n",
    "       'https://1lib.in/s/mechatronics','https://1lib.in/s/mechatronics']"
   ]
  },
  {
   "cell_type": "code",
   "execution_count": 3,
   "metadata": {},
   "outputs": [],
   "source": [
    "# Computer Science Engineering books url\n",
    "cse_urls1 = ['https://1lib.in/s/physics%20for%20information%20science','https://1lib.in/s/discrete%20mathematics',\n",
    "          'https://1lib.in/s/digital%20principle%20and%20design','https://1lib.in/s/oops', \n",
    "          'https://1lib.in/s/data%20structures%20','https://1lib.in/s/computer%20architecture',\n",
    "          'https://1lib.in/s/database%20management%20system','https://1lib.in/s/design%20and%20analysis%20of%20algorithms',\n",
    "          'https://1lib.in/s/operating%20system','https://1lib.in/s/software%20engineering',]\n",
    "cse_urls2 = ['https://1lib.in/s/algebra%20and%20numeric%20theory','https://1lib.in/s/computer%20networks',\n",
    "          'https://1lib.in/s/microprocessor%20and%20microcontrollers','https://1lib.in/s/theory%20of%20computation',\n",
    "          'https://1lib.in/s/object%20oriented%20analysis%20and%20design','https://1lib.in/s/internet%20programming',\n",
    "          'https://1lib.in/s/ai','https://1lib.in/s/mobile%20computing','https://1lib.in/s/compiler%20design',\n",
    "          'https://1lib.in/s/distributed%20system','https://1lib.in/s/cryptography%20and%20network%20security',\n",
    "          'https://1lib.in/s/cloud%20computing']"
   ]
  },
  {
   "cell_type": "code",
   "execution_count": 4,
   "metadata": {},
   "outputs": [],
   "source": [
    "# IT books url\n",
    "it_urls =['https://1lib.in/s/information%20technology%20essentials','https://1lib.in/s/analog%20and%20digital%20communication',\n",
    "         'https://1lib.in/s/web%20technology','https://1lib.in/s/computational%20intelligence',\n",
    "         'https://1lib.in/s/big%20data%20analytics','https://1lib.in/s/computer%20graphics%20and%20multimedia']"
   ]
  },
  {
   "cell_type": "code",
   "execution_count": 5,
   "metadata": {},
   "outputs": [],
   "source": [
    "# Electrical Communication Engineering books url\n",
    "ec_urls1 = ['https://1lib.in/s/circuit%20analysis','https://1lib.in/s/electronic%20devices',\n",
    "          'https://1lib.in/s/linear%20algebra%20and%20partial%20differential%20equations','https://1lib.in/s/electronic%20circuit',\n",
    "          'https://1lib.in/s/signals%20and%20systems','https://1lib.in/s/digital%20electronics',\n",
    "          'https://1lib.in/s/control%20system%20engineering', 'https://1lib.in/s/probability%20and%20random%20processes',\n",
    "          'https://1lib.in/s/communication%20theory', 'https://1lib.in/s/electromagnetic%20field']\n",
    "ec_urls2 = ['https://1lib.in/s/linear%20integrated%20circuit', 'https://1lib.in/s/digital%20communication',\n",
    "           'https://1lib.in/s/discrete%20time%20signal%20processing','https://1lib.in/s/communication%20network',\n",
    "           'https://1lib.in/s/VLSI%20design','https://1lib.in/s/wireless%20communication',\n",
    "           'https://1lib.in/s/transmission%20lines%20', 'https://1lib.in/s/antennas%20engineering',\n",
    "           'https://1lib.in/s/optical%20communication','https://1lib.in/s/embedded%20and%20real%20time%20system%20',\n",
    "           'https://1lib.in/s/ad%20hoc%20and%20wireless%20sensor%20network']\n"
   ]
  },
  {
   "cell_type": "code",
   "execution_count": 6,
   "metadata": {},
   "outputs": [],
   "source": [
    "# Civil Engineering books url\n",
    "civil_urls1 = ['https://1lib.in/s/engineering%20geology', 'https://1lib.in/s/construction%20materials',\n",
    "              'https://1lib.in/s/strength%20of%20material','https://1lib.in/s/surveying%20',\n",
    "              'https://1lib.in/s/numerical%20method','https://1lib.in/s/construction%20technique%20and%20practices',\n",
    "              'https://1lib.in/s/applied%20hydraulic%20engineering','https://1lib.in/s/concrete%20technology',\n",
    "              'https://1lib.in/s/solid%20mechanics','https://1lib.in/s/design%20and%20reinforced%20cement%20concrete%20element']\n",
    "civil_urls2 = ['https://1lib.in/s/foundation%20engineering', 'https://1lib.in/s/structural%20analysis',\n",
    "              'https://1lib.in/s/water%20supply%20engineering', 'https://1lib.in/s/design%20of%20steel%20structural%20element',\n",
    "              'https://1lib.in/s/irrigation%20engineering','https://1lib.in/s/highway%20engineering',\n",
    "              'https://1lib.in/s/estimation%20cost%20%20engineering%20']"
   ]
  },
  {
   "cell_type": "code",
   "execution_count": 7,
   "metadata": {},
   "outputs": [],
   "source": [
    "# Electrical and Electronics books url\n",
    "eee_urls1 = ['https://1lib.in/s/circuit%20theory','https://1lib.in/s/digital%20logic%20circuit',\n",
    "            'https://1lib.in/s/electromagnetic%20theory','https://1lib.in/s/electron%20device%20and%20circuits',\n",
    "            'https://1lib.in/s/electrical%20mechanics','https://1lib.in/s/transmission%20and%20distribution',\n",
    "            'https://1lib.in/s/measurements%20and%20instruments','https://1lib.in/s/power%20system%20analysis',\n",
    "            'https://1lib.in/s/power%20electronics','https://1lib.in/s/digital%20signal%20processing']\n",
    "eee_urls2 = ['https://1lib.in/s/solid%20state%20drives', 'https://1lib.in/s/protection%20and%20switchgear',\n",
    "            'https://1lib.in/s/embedded%20system','https://1lib.in/s/high%20voltage%20engineering',\n",
    "            'https://1lib.in/s/power%20system%20operation%20and%20controls','https://1lib.in/s/renewable%20energy%20system']"
   ]
  },
  {
   "cell_type": "code",
   "execution_count": 1,
   "metadata": {},
   "outputs": [],
   "source": [
    "# Agriculture Engineering book url\n",
    "agri_urls1 = ['https://1lib.in/s/soil%20science%20and%20engineering', 'https://1lib.in/s/thermodynamics%20',\n",
    "              'https://1lib.in/s/crop%20productions', 'https://1lib.in/s/fuel%20mechanics',\n",
    "              'https://1lib.in/s/surveying%20and%20leveling','https://1lib.in/s/theory%20of%20mechanics',\n",
    "              'https://1lib.in/s/probability%20and%20statistics','https://1lib.in/s/hydrology%20and%20water%20resources%20engineering',\n",
    "              'https://1lib.in/s/irrigation%20and%20drainage%20engineering', 'https://1lib.in/s/farm%20machinery%20']\n",
    "agri_urls2 = ['https://1lib.in/s/harvest%20engineering','https://1lib.in/s/ground%20water%20engineering',\n",
    "              'https://1lib.in/s/solar%20and%20wind%20engineering','https://1lib.in/s/remote%20sensing%20and%20geographic']"
   ]
  },
  {
   "cell_type": "code",
   "execution_count": 1,
   "metadata": {},
   "outputs": [],
   "source": [
    "# Bio Medical Engineering book url\n",
    "bio_urls1 = ['https://1lib.in/s/anatomy%20and%20human%20physiology', 'https://1lib.in/s/sensor%20and%20measurement', \n",
    "            'https://1lib.in/s/pathology%20and%20microbiology','https://1lib.in/s/time%20and%20signal%20processing',\n",
    "            'https://1lib.in/s/diagnostic%20and%20therapeutic','https://1lib.in/s/bio%20mechanics',\n",
    "            'https://1lib.in/s/radiological%20equipment', 'https://1lib.in/s/rehabilitation%20engineering']"
   ]
  },
  {
   "cell_type": "code",
   "execution_count": 2,
   "metadata": {},
   "outputs": [],
   "source": [
    "# Robotics and Automations book url\n",
    "robotic_urls1 = ['https://1lib.in/s/automatic%20control%20system','https://1lib.in/s/electrical%20machine%20and%20power%20system',\n",
    "                'https://1lib.in/s/linear%20integrated%20circuit', 'https://1lib.in/s/dynamics%20of%20machine',\n",
    "                'https://1lib.in/s/CNC', 'https://1lib.in/s/principles%20of%20robotics%20','https://1lib.in/s/machine%20vision%20system',\n",
    "                'https://1lib.in/s/automation%20system%20design','https://1lib.in/s/modeling%20and%20simulations',\n",
    "                'https://1lib.in/s/field%20and%20service%20robotics']"
   ]
  },
  {
   "cell_type": "code",
   "execution_count": 1,
   "metadata": {},
   "outputs": [],
   "source": [
    "# Additional Books\n",
    "additional_urls = ['https://1lib.in/s/information%20security','https://1lib.in/s/information%20retrieval']"
   ]
  },
  {
   "cell_type": "markdown",
   "metadata": {},
   "source": [
    "."
   ]
  },
  {
   "cell_type": "markdown",
   "metadata": {},
   "source": [
    "."
   ]
  },
  {
   "cell_type": "code",
   "execution_count": 2,
   "metadata": {},
   "outputs": [],
   "source": [
    "# Importing the required libraries for Scraping\n",
    "import requests\n",
    "from bs4 import BeautifulSoup\n",
    "import pandas as pd"
   ]
  },
  {
   "cell_type": "code",
   "execution_count": 8,
   "metadata": {},
   "outputs": [],
   "source": [
    "# Engineering books scraping code:\n",
    "def scraper(urls):\n",
    "    # List for storing the scraped data\n",
    "    book_image = [] \n",
    "    book_title = []\n",
    "    book_authors = []\n",
    "    book_desc = []\n",
    "    publishers = []\n",
    "    year = []\n",
    "    language = []\n",
    "    file = []\n",
    "    pages =[]\n",
    "    download_link = []\n",
    "    # Iterating through the list of urls\n",
    "    for url in urls:\n",
    "        try:\n",
    "            subject = requests.get(url)\n",
    "            soup = BeautifulSoup(subject.text, 'html.parser')\n",
    "\n",
    "            subject_page = soup.findAll('div', attrs = {'class':'resItemBox resItemBoxBooks exactMatch'})\n",
    "\n",
    "            x = 0\n",
    "\n",
    "            for i in subject_page:\n",
    "                # Book cover image\n",
    "                image = i.find('div', class_=\"checkBookDownloaded itemCoverWrapper\").a.img.get('data-src')\n",
    "                book_image.append(image)\n",
    "                # Book title\n",
    "                title = i.h3.a.text\n",
    "                book_title.append(title)\n",
    "                # Book authors name\n",
    "                authors = i.find('div', class_='authors').a.text\n",
    "                book_authors.append(authors)\n",
    "                # Book publishers\n",
    "                try:\n",
    "                    publisher = i.find('div', title='Publisher').a.text\n",
    "                    publishers.append(publisher)\n",
    "                except:\n",
    "                    publishers.append('Unknown') \n",
    "                # published year\n",
    "                try:\n",
    "                    pub_yr = i.find('div', class_='bookProperty property_year').find('div', class_='property_value').text\n",
    "                    year.append(pub_yr)\n",
    "                except:\n",
    "                    year.append('Unknown')\n",
    "                #Book language\n",
    "                try:\n",
    "                    lan = i.find('div', class_='bookProperty property_language').find('div', class_='property_value').text\n",
    "                    language.append(lan)\n",
    "                except:\n",
    "                    language.append('Unknown')\n",
    "                # Book file size\n",
    "                try:\n",
    "                    book_file = i.find('div',class_='bookProperty property__file').find('div',class_='property_value').text\n",
    "                    file.append(book_file)\n",
    "                except:\n",
    "                    file.append('Unknown')\n",
    "                # Getting into the home page of the book    \n",
    "                try:   \n",
    "                    desc_link = i.h3.a['href']\n",
    "                    home_link = requests.get('https://1lib.in'+desc_link)\n",
    "                    home = BeautifulSoup(home_link.text, 'html.parser')\n",
    "                    # Description of the book\n",
    "                    try:\n",
    "                        desc = home.find('div', class_='col-sm-9').find('div', id='bookDescriptionBox').text\n",
    "                        book_desc.append(desc)\n",
    "                    except:\n",
    "                        book_desc.append('Unknown') \n",
    "                    # Page No of the book\n",
    "                    try:\n",
    "                        page = home.find('div',class_='col-sm-9').find('div',class_='bookDetailsBox').find('div', class_='bookProperty property_pages').find('span',title='Pages paperback').text\n",
    "                        pages.append(page)\n",
    "                    except:\n",
    "                        pages.append('Unknown')\n",
    "                    # Download link of the book\n",
    "                    try:\n",
    "                        down = home.find('div', class_='details-buttons-container pull-left').find('div', class_='btn-group').a['href']\n",
    "                        download = 'https://1lib.in'+down\n",
    "                        download_link.append(download)\n",
    "                    except:\n",
    "                        download_link.append('Unknown')\n",
    "\n",
    "                except:\n",
    "                    # Trying the above code, if error occurs\n",
    "                    try:   \n",
    "                        desc_link = i.h3.a['href']\n",
    "                        home_link = requests.get('https://1lib.in'+desc_link)\n",
    "                        home = BeautifulSoup(home_link.text, 'html.parser')\n",
    "                        try:\n",
    "                            desc = home.find('div', class_='col-sm-9').find('div', id='bookDescriptionBox').text\n",
    "                            book_desc.append(desc)\n",
    "\n",
    "                        except:\n",
    "                            book_desc.append('Unknown') \n",
    "\n",
    "                        try:\n",
    "                            page = home.find('div',class_='col-sm-9').find('div',class_='bookDetailsBox').find('div', class_='bookProperty property_pages').find('span',title='Pages paperback').text\n",
    "                            pages.append(page)\n",
    "                        except:\n",
    "                            pages.append('Unknown')\n",
    "\n",
    "                        try:\n",
    "                            down = home.find('div', class_='details-buttons-container pull-left').find('div', class_='btn-group').a['href']\n",
    "                            download = 'https://1lib.in'+down\n",
    "                            download_link.append(download)\n",
    "                        except:\n",
    "                            download_link.append('Unknown')\n",
    "\n",
    "                    except:\n",
    "                        book_desc.append('Unknown')\n",
    "                        pages.append('Unknown')\n",
    "                        download_link.append('Unknown')\n",
    "                # To get the top 20 books\n",
    "                x += 1\n",
    "                if x == 40:\n",
    "                    break\n",
    "\n",
    "        except:\n",
    "            pass\n",
    "\n",
    "    data = {'title':book_title, 'author':book_authors, 'image':book_image, 'desc':book_desc, 'download_link':download_link,\n",
    "        'pages':pages,'publisher':publishers, 'year':year, 'language':language, 'file':file}\n",
    "    data = pd.DataFrame(data)\n",
    "    return data"
   ]
  },
  {
   "cell_type": "markdown",
   "metadata": {},
   "source": [
    "."
   ]
  },
  {
   "cell_type": "markdown",
   "metadata": {},
   "source": [
    "."
   ]
  },
  {
   "cell_type": "markdown",
   "metadata": {},
   "source": [
    "."
   ]
  },
  {
   "cell_type": "markdown",
   "metadata": {},
   "source": [
    "### 1. Scraping Mechanical Engneering books data"
   ]
  },
  {
   "cell_type": "code",
   "execution_count": 44,
   "metadata": {},
   "outputs": [],
   "source": [
    "mech_data1 = scraper(mech_urls1)"
   ]
  },
  {
   "cell_type": "code",
   "execution_count": 27,
   "metadata": {},
   "outputs": [],
   "source": [
    "mech_data2 = scraper(mech_urls2)"
   ]
  },
  {
   "cell_type": "code",
   "execution_count": 37,
   "metadata": {},
   "outputs": [],
   "source": [
    "mech_data3 = scraper(mech_urls3)"
   ]
  },
  {
   "cell_type": "code",
   "execution_count": 46,
   "metadata": {},
   "outputs": [],
   "source": [
    "df = [mech_data1, mech_data2, mech_data3]\n",
    "mech_data = pd.concat(df)\n",
    "mech_data = mech_data.reset_index(drop=True)"
   ]
  },
  {
   "cell_type": "code",
   "execution_count": 63,
   "metadata": {},
   "outputs": [
    {
     "data": {
      "text/plain": [
       "(437, 10)"
      ]
     },
     "execution_count": 63,
     "metadata": {},
     "output_type": "execute_result"
    }
   ],
   "source": [
    "mech_data.shape"
   ]
  },
  {
   "cell_type": "code",
   "execution_count": 61,
   "metadata": {},
   "outputs": [
    {
     "data": {
      "text/html": [
       "<div>\n",
       "<style scoped>\n",
       "    .dataframe tbody tr th:only-of-type {\n",
       "        vertical-align: middle;\n",
       "    }\n",
       "\n",
       "    .dataframe tbody tr th {\n",
       "        vertical-align: top;\n",
       "    }\n",
       "\n",
       "    .dataframe thead th {\n",
       "        text-align: right;\n",
       "    }\n",
       "</style>\n",
       "<table border=\"1\" class=\"dataframe\">\n",
       "  <thead>\n",
       "    <tr style=\"text-align: right;\">\n",
       "      <th></th>\n",
       "      <th>title</th>\n",
       "      <th>author</th>\n",
       "      <th>image</th>\n",
       "      <th>desc</th>\n",
       "      <th>download_link</th>\n",
       "      <th>pages</th>\n",
       "      <th>publisher</th>\n",
       "      <th>year</th>\n",
       "      <th>language</th>\n",
       "      <th>file</th>\n",
       "    </tr>\n",
       "  </thead>\n",
       "  <tbody>\n",
       "    <tr>\n",
       "      <td>0</td>\n",
       "      <td>Principles of operations management sustainabi...</td>\n",
       "      <td>Heizer</td>\n",
       "      <td>https://covers.zlibcdn2.com/covers100/books/73...</td>\n",
       "      <td>Unknown</td>\n",
       "      <td>https://1lib.in/dl/3521666/814571</td>\n",
       "      <td>767</td>\n",
       "      <td>Pearson Education Limited</td>\n",
       "      <td>2017</td>\n",
       "      <td>english</td>\n",
       "      <td>PDF, 93.35 MB</td>\n",
       "    </tr>\n",
       "    <tr>\n",
       "      <td>1</td>\n",
       "      <td>Critical Care Medicine: Principles of Diagnosi...</td>\n",
       "      <td>Joseph E. Parrillo</td>\n",
       "      <td>https://covers.zlibcdn2.com/covers100/books/08...</td>\n",
       "      <td>\\n                    Now completely revised t...</td>\n",
       "      <td>https://1lib.in/dl/3707743/952c4e</td>\n",
       "      <td>1754</td>\n",
       "      <td>Elsevier</td>\n",
       "      <td>2019</td>\n",
       "      <td>english</td>\n",
       "      <td>PDF, 132.04 MB</td>\n",
       "    </tr>\n",
       "    <tr>\n",
       "      <td>2</td>\n",
       "      <td>The coaching manual: the definitive guide to t...</td>\n",
       "      <td>Julie Starr</td>\n",
       "      <td>https://covers.zlibcdn2.com/covers100/books/c6...</td>\n",
       "      <td>\\n                    The Coaching Manual is t...</td>\n",
       "      <td>https://1lib.in/dl/541111/98e1ec</td>\n",
       "      <td>257</td>\n",
       "      <td>Financial Times Management</td>\n",
       "      <td>2003</td>\n",
       "      <td>english</td>\n",
       "      <td>PDF, 1.22 MB</td>\n",
       "    </tr>\n",
       "  </tbody>\n",
       "</table>\n",
       "</div>"
      ],
      "text/plain": [
       "                                               title              author  \\\n",
       "0  Principles of operations management sustainabi...              Heizer   \n",
       "1  Critical Care Medicine: Principles of Diagnosi...  Joseph E. Parrillo   \n",
       "2  The coaching manual: the definitive guide to t...         Julie Starr   \n",
       "\n",
       "                                               image  \\\n",
       "0  https://covers.zlibcdn2.com/covers100/books/73...   \n",
       "1  https://covers.zlibcdn2.com/covers100/books/08...   \n",
       "2  https://covers.zlibcdn2.com/covers100/books/c6...   \n",
       "\n",
       "                                                desc  \\\n",
       "0                                            Unknown   \n",
       "1  \\n                    Now completely revised t...   \n",
       "2  \\n                    The Coaching Manual is t...   \n",
       "\n",
       "                       download_link pages                   publisher  year  \\\n",
       "0  https://1lib.in/dl/3521666/814571   767   Pearson Education Limited  2017   \n",
       "1  https://1lib.in/dl/3707743/952c4e  1754                    Elsevier  2019   \n",
       "2   https://1lib.in/dl/541111/98e1ec   257  Financial Times Management  2003   \n",
       "\n",
       "  language            file  \n",
       "0  english   PDF, 93.35 MB  \n",
       "1  english  PDF, 132.04 MB  \n",
       "2  english    PDF, 1.22 MB  "
      ]
     },
     "execution_count": 61,
     "metadata": {},
     "output_type": "execute_result"
    }
   ],
   "source": [
    "mech_data.head(3)"
   ]
  },
  {
   "cell_type": "code",
   "execution_count": 48,
   "metadata": {},
   "outputs": [],
   "source": [
    "mech_data.to_csv('mech_data.csv', index=False)"
   ]
  },
  {
   "cell_type": "markdown",
   "metadata": {},
   "source": [
    "### 2. Scraping Computer Science Engineering books data"
   ]
  },
  {
   "cell_type": "code",
   "execution_count": 51,
   "metadata": {},
   "outputs": [],
   "source": [
    "cse_data1 = scraper(cse_urls1)"
   ]
  },
  {
   "cell_type": "code",
   "execution_count": 55,
   "metadata": {},
   "outputs": [],
   "source": [
    "cse_data2 = scraper(cse_urls2)"
   ]
  },
  {
   "cell_type": "code",
   "execution_count": 57,
   "metadata": {},
   "outputs": [],
   "source": [
    "df2 = [cse_data1, cse_data2]\n",
    "cse_data = pd.concat(df2)\n",
    "cse_data = cse_data.reset_index(drop=True)"
   ]
  },
  {
   "cell_type": "code",
   "execution_count": 64,
   "metadata": {},
   "outputs": [
    {
     "data": {
      "text/plain": [
       "(408, 10)"
      ]
     },
     "execution_count": 64,
     "metadata": {},
     "output_type": "execute_result"
    }
   ],
   "source": [
    "cse_data.shape"
   ]
  },
  {
   "cell_type": "code",
   "execution_count": 62,
   "metadata": {},
   "outputs": [
    {
     "data": {
      "text/html": [
       "<div>\n",
       "<style scoped>\n",
       "    .dataframe tbody tr th:only-of-type {\n",
       "        vertical-align: middle;\n",
       "    }\n",
       "\n",
       "    .dataframe tbody tr th {\n",
       "        vertical-align: top;\n",
       "    }\n",
       "\n",
       "    .dataframe thead th {\n",
       "        text-align: right;\n",
       "    }\n",
       "</style>\n",
       "<table border=\"1\" class=\"dataframe\">\n",
       "  <thead>\n",
       "    <tr style=\"text-align: right;\">\n",
       "      <th></th>\n",
       "      <th>title</th>\n",
       "      <th>author</th>\n",
       "      <th>image</th>\n",
       "      <th>desc</th>\n",
       "      <th>download_link</th>\n",
       "      <th>pages</th>\n",
       "      <th>publisher</th>\n",
       "      <th>year</th>\n",
       "      <th>language</th>\n",
       "      <th>file</th>\n",
       "    </tr>\n",
       "  </thead>\n",
       "  <tbody>\n",
       "    <tr>\n",
       "      <td>0</td>\n",
       "      <td>Mathematical physics (Mathematical Methods for...</td>\n",
       "      <td>Derek Raine</td>\n",
       "      <td>https://covers.zlibcdn2.com/covers100/books/84...</td>\n",
       "      <td>\\n                    The book differs from ot...</td>\n",
       "      <td>https://1lib.in/dl/3700884/72d2f1</td>\n",
       "      <td>544</td>\n",
       "      <td>Mercury Learning and Information LLC</td>\n",
       "      <td>2019</td>\n",
       "      <td>english</td>\n",
       "      <td>PDF, 11.08 MB</td>\n",
       "    </tr>\n",
       "    <tr>\n",
       "      <td>1</td>\n",
       "      <td>Assistive Technologies for Physical and Cognit...</td>\n",
       "      <td>Lau Bee Theng</td>\n",
       "      <td>https://covers.zlibcdn2.com/covers100/books/de...</td>\n",
       "      <td>\\n                    Research on assistive te...</td>\n",
       "      <td>https://1lib.in/dl/2483981/17f3c3</td>\n",
       "      <td>Unknown</td>\n",
       "      <td>Medical Information Science Reference</td>\n",
       "      <td>2015</td>\n",
       "      <td>english</td>\n",
       "      <td>PDF, 27.65 MB</td>\n",
       "    </tr>\n",
       "    <tr>\n",
       "      <td>2</td>\n",
       "      <td>Physics for Electronics Engineering and Inform...</td>\n",
       "      <td>S. Salivahanan</td>\n",
       "      <td>https://covers.zlibcdn2.com/covers100/books/cc...</td>\n",
       "      <td>Unknown</td>\n",
       "      <td>https://1lib.in/dl/5482764/0876ec</td>\n",
       "      <td>Unknown</td>\n",
       "      <td>McGraw-Hill Education</td>\n",
       "      <td>2018</td>\n",
       "      <td>english</td>\n",
       "      <td>PDF, 6.18 MB</td>\n",
       "    </tr>\n",
       "  </tbody>\n",
       "</table>\n",
       "</div>"
      ],
      "text/plain": [
       "                                               title          author  \\\n",
       "0  Mathematical physics (Mathematical Methods for...     Derek Raine   \n",
       "1  Assistive Technologies for Physical and Cognit...   Lau Bee Theng   \n",
       "2  Physics for Electronics Engineering and Inform...  S. Salivahanan   \n",
       "\n",
       "                                               image  \\\n",
       "0  https://covers.zlibcdn2.com/covers100/books/84...   \n",
       "1  https://covers.zlibcdn2.com/covers100/books/de...   \n",
       "2  https://covers.zlibcdn2.com/covers100/books/cc...   \n",
       "\n",
       "                                                desc  \\\n",
       "0  \\n                    The book differs from ot...   \n",
       "1  \\n                    Research on assistive te...   \n",
       "2                                            Unknown   \n",
       "\n",
       "                       download_link    pages  \\\n",
       "0  https://1lib.in/dl/3700884/72d2f1      544   \n",
       "1  https://1lib.in/dl/2483981/17f3c3  Unknown   \n",
       "2  https://1lib.in/dl/5482764/0876ec  Unknown   \n",
       "\n",
       "                               publisher  year language           file  \n",
       "0   Mercury Learning and Information LLC  2019  english  PDF, 11.08 MB  \n",
       "1  Medical Information Science Reference  2015  english  PDF, 27.65 MB  \n",
       "2                  McGraw-Hill Education  2018  english   PDF, 6.18 MB  "
      ]
     },
     "execution_count": 62,
     "metadata": {},
     "output_type": "execute_result"
    }
   ],
   "source": [
    "cse_data.head(3)"
   ]
  },
  {
   "cell_type": "code",
   "execution_count": 65,
   "metadata": {},
   "outputs": [],
   "source": [
    "cse_data.to_csv('cse_data.csv', index=False)"
   ]
  },
  {
   "cell_type": "markdown",
   "metadata": {},
   "source": [
    "### 3. Scraping IT books data"
   ]
  },
  {
   "cell_type": "code",
   "execution_count": 5,
   "metadata": {},
   "outputs": [],
   "source": [
    "it_data = scraper(it_urls)"
   ]
  },
  {
   "cell_type": "code",
   "execution_count": 6,
   "metadata": {},
   "outputs": [
    {
     "data": {
      "text/plain": [
       "(93, 10)"
      ]
     },
     "execution_count": 6,
     "metadata": {},
     "output_type": "execute_result"
    }
   ],
   "source": [
    "it_data.shape"
   ]
  },
  {
   "cell_type": "code",
   "execution_count": 8,
   "metadata": {},
   "outputs": [
    {
     "data": {
      "text/html": [
       "<div>\n",
       "<style scoped>\n",
       "    .dataframe tbody tr th:only-of-type {\n",
       "        vertical-align: middle;\n",
       "    }\n",
       "\n",
       "    .dataframe tbody tr th {\n",
       "        vertical-align: top;\n",
       "    }\n",
       "\n",
       "    .dataframe thead th {\n",
       "        text-align: right;\n",
       "    }\n",
       "</style>\n",
       "<table border=\"1\" class=\"dataframe\">\n",
       "  <thead>\n",
       "    <tr style=\"text-align: right;\">\n",
       "      <th></th>\n",
       "      <th>title</th>\n",
       "      <th>author</th>\n",
       "      <th>image</th>\n",
       "      <th>desc</th>\n",
       "      <th>download_link</th>\n",
       "      <th>pages</th>\n",
       "      <th>publisher</th>\n",
       "      <th>year</th>\n",
       "      <th>language</th>\n",
       "      <th>file</th>\n",
       "    </tr>\n",
       "  </thead>\n",
       "  <tbody>\n",
       "    <tr>\n",
       "      <td>0</td>\n",
       "      <td>Information Technology Essentials for Behavior...</td>\n",
       "      <td>Naakesh A. Dewan</td>\n",
       "      <td>https://covers.zlibcdn2.com/covers100/books/da...</td>\n",
       "      <td>\\n“Technology will drive behavioral health inn...</td>\n",
       "      <td>https://1lib.in/dl/895296/3891e5</td>\n",
       "      <td>213</td>\n",
       "      <td>Springer-Verlag London</td>\n",
       "      <td>2011</td>\n",
       "      <td>english</td>\n",
       "      <td>PDF, 1.62 MB</td>\n",
       "    </tr>\n",
       "    <tr>\n",
       "      <td>1</td>\n",
       "      <td>Information Technology Essentials for Behavior...</td>\n",
       "      <td>Naakesh A. Dewan</td>\n",
       "      <td>https://covers.zlibcdn2.com/covers100/books/12...</td>\n",
       "      <td>Unknown</td>\n",
       "      <td>https://1lib.in/dl/5925093/4a7791</td>\n",
       "      <td>213</td>\n",
       "      <td>Springer-Verlag London</td>\n",
       "      <td>2011</td>\n",
       "      <td>english</td>\n",
       "      <td>PDF, 1.71 MB</td>\n",
       "    </tr>\n",
       "    <tr>\n",
       "      <td>2</td>\n",
       "      <td>Modern Digital and Analog Communication Systems</td>\n",
       "      <td>B. P. Lathi</td>\n",
       "      <td>https://covers.zlibcdn2.com/covers100/books/c2...</td>\n",
       "      <td>\\n                    Modern Digital and Analo...</td>\n",
       "      <td>https://1lib.in/dl/3437214/1a980a</td>\n",
       "      <td>928</td>\n",
       "      <td>Oxford University Press</td>\n",
       "      <td>2009</td>\n",
       "      <td>english</td>\n",
       "      <td>PDF, 29.48 MB</td>\n",
       "    </tr>\n",
       "  </tbody>\n",
       "</table>\n",
       "</div>"
      ],
      "text/plain": [
       "                                               title            author  \\\n",
       "0  Information Technology Essentials for Behavior...  Naakesh A. Dewan   \n",
       "1  Information Technology Essentials for Behavior...  Naakesh A. Dewan   \n",
       "2    Modern Digital and Analog Communication Systems       B. P. Lathi   \n",
       "\n",
       "                                               image  \\\n",
       "0  https://covers.zlibcdn2.com/covers100/books/da...   \n",
       "1  https://covers.zlibcdn2.com/covers100/books/12...   \n",
       "2  https://covers.zlibcdn2.com/covers100/books/c2...   \n",
       "\n",
       "                                                desc  \\\n",
       "0  \\n“Technology will drive behavioral health inn...   \n",
       "1                                            Unknown   \n",
       "2  \\n                    Modern Digital and Analo...   \n",
       "\n",
       "                       download_link pages                publisher  year  \\\n",
       "0   https://1lib.in/dl/895296/3891e5   213   Springer-Verlag London  2011   \n",
       "1  https://1lib.in/dl/5925093/4a7791   213   Springer-Verlag London  2011   \n",
       "2  https://1lib.in/dl/3437214/1a980a   928  Oxford University Press  2009   \n",
       "\n",
       "  language           file  \n",
       "0  english   PDF, 1.62 MB  \n",
       "1  english   PDF, 1.71 MB  \n",
       "2  english  PDF, 29.48 MB  "
      ]
     },
     "execution_count": 8,
     "metadata": {},
     "output_type": "execute_result"
    }
   ],
   "source": [
    "it_data.head(3)"
   ]
  },
  {
   "cell_type": "code",
   "execution_count": 9,
   "metadata": {},
   "outputs": [],
   "source": [
    "it_data.to_csv('it_data.csv', index=False)"
   ]
  },
  {
   "cell_type": "markdown",
   "metadata": {},
   "source": [
    "### 4. Scraping Electrical Communication Engineering book data"
   ]
  },
  {
   "cell_type": "code",
   "execution_count": 11,
   "metadata": {},
   "outputs": [],
   "source": [
    "ec_data1 = scraper(ec_urls1)"
   ]
  },
  {
   "cell_type": "code",
   "execution_count": 31,
   "metadata": {},
   "outputs": [],
   "source": [
    "ec_data2 = scraper(ec_urls2)"
   ]
  },
  {
   "cell_type": "code",
   "execution_count": 33,
   "metadata": {},
   "outputs": [],
   "source": [
    "df3 = [ec_data1, ec_data2]\n",
    "ec_data = pd.concat(df3)\n",
    "ec_data = ec_data.reset_index(drop=True)"
   ]
  },
  {
   "cell_type": "code",
   "execution_count": 35,
   "metadata": {},
   "outputs": [
    {
     "data": {
      "text/plain": [
       "(396, 10)"
      ]
     },
     "execution_count": 35,
     "metadata": {},
     "output_type": "execute_result"
    }
   ],
   "source": [
    "ec_data.shape"
   ]
  },
  {
   "cell_type": "code",
   "execution_count": 36,
   "metadata": {},
   "outputs": [
    {
     "data": {
      "text/html": [
       "<div>\n",
       "<style scoped>\n",
       "    .dataframe tbody tr th:only-of-type {\n",
       "        vertical-align: middle;\n",
       "    }\n",
       "\n",
       "    .dataframe tbody tr th {\n",
       "        vertical-align: top;\n",
       "    }\n",
       "\n",
       "    .dataframe thead th {\n",
       "        text-align: right;\n",
       "    }\n",
       "</style>\n",
       "<table border=\"1\" class=\"dataframe\">\n",
       "  <thead>\n",
       "    <tr style=\"text-align: right;\">\n",
       "      <th></th>\n",
       "      <th>title</th>\n",
       "      <th>author</th>\n",
       "      <th>image</th>\n",
       "      <th>desc</th>\n",
       "      <th>download_link</th>\n",
       "      <th>pages</th>\n",
       "      <th>publisher</th>\n",
       "      <th>year</th>\n",
       "      <th>language</th>\n",
       "      <th>file</th>\n",
       "    </tr>\n",
       "  </thead>\n",
       "  <tbody>\n",
       "    <tr>\n",
       "      <td>0</td>\n",
       "      <td>Analysis and Design of Analog Integrated Circu...</td>\n",
       "      <td>Paul R. Gray</td>\n",
       "      <td>https://covers.zlibcdn2.com/covers100/books/c3...</td>\n",
       "      <td>\\n                    This is the only compreh...</td>\n",
       "      <td>https://1lib.in/dl/1270393/c482ac</td>\n",
       "      <td>895</td>\n",
       "      <td>John Wiley &amp; Sons Inc</td>\n",
       "      <td>2009</td>\n",
       "      <td>english</td>\n",
       "      <td>PDF, 55.70 MB</td>\n",
       "    </tr>\n",
       "    <tr>\n",
       "      <td>1</td>\n",
       "      <td>Introductory Circuit Analysis</td>\n",
       "      <td>Robert L. Boylestad</td>\n",
       "      <td>https://covers.zlibcdn2.com/covers100/books/89...</td>\n",
       "      <td>\\n For courses in DC/AC circuits: conventional...</td>\n",
       "      <td>https://1lib.in/dl/3515263/a3ff99</td>\n",
       "      <td>Unknown</td>\n",
       "      <td>Pearson</td>\n",
       "      <td>2016</td>\n",
       "      <td>english</td>\n",
       "      <td>PDF, 37.64 MB</td>\n",
       "    </tr>\n",
       "    <tr>\n",
       "      <td>2</td>\n",
       "      <td>Schaum's Outline of Theory and Problems of Bas...</td>\n",
       "      <td>John O'Malley</td>\n",
       "      <td>https://covers.zlibcdn2.com/covers100/books/0d...</td>\n",
       "      <td>\\n                    For improved comprehensi...</td>\n",
       "      <td>https://1lib.in/dl/464024/7c4055</td>\n",
       "      <td>433</td>\n",
       "      <td>McGraw-Hill</td>\n",
       "      <td>1992</td>\n",
       "      <td>english</td>\n",
       "      <td>PDF, 20.28 MB</td>\n",
       "    </tr>\n",
       "  </tbody>\n",
       "</table>\n",
       "</div>"
      ],
      "text/plain": [
       "                                               title               author  \\\n",
       "0  Analysis and Design of Analog Integrated Circu...         Paul R. Gray   \n",
       "1                      Introductory Circuit Analysis  Robert L. Boylestad   \n",
       "2  Schaum's Outline of Theory and Problems of Bas...        John O'Malley   \n",
       "\n",
       "                                               image  \\\n",
       "0  https://covers.zlibcdn2.com/covers100/books/c3...   \n",
       "1  https://covers.zlibcdn2.com/covers100/books/89...   \n",
       "2  https://covers.zlibcdn2.com/covers100/books/0d...   \n",
       "\n",
       "                                                desc  \\\n",
       "0  \\n                    This is the only compreh...   \n",
       "1  \\n For courses in DC/AC circuits: conventional...   \n",
       "2  \\n                    For improved comprehensi...   \n",
       "\n",
       "                       download_link    pages              publisher  year  \\\n",
       "0  https://1lib.in/dl/1270393/c482ac      895  John Wiley & Sons Inc  2009   \n",
       "1  https://1lib.in/dl/3515263/a3ff99  Unknown                Pearson  2016   \n",
       "2   https://1lib.in/dl/464024/7c4055      433            McGraw-Hill  1992   \n",
       "\n",
       "  language           file  \n",
       "0  english  PDF, 55.70 MB  \n",
       "1  english  PDF, 37.64 MB  \n",
       "2  english  PDF, 20.28 MB  "
      ]
     },
     "execution_count": 36,
     "metadata": {},
     "output_type": "execute_result"
    }
   ],
   "source": [
    "ec_data.head(3)"
   ]
  },
  {
   "cell_type": "code",
   "execution_count": 37,
   "metadata": {},
   "outputs": [],
   "source": [
    "ec_data.to_csv('ec_data.csv', index=False)"
   ]
  },
  {
   "cell_type": "markdown",
   "metadata": {},
   "source": [
    "### 5. Scraping Civil Engineering book data "
   ]
  },
  {
   "cell_type": "code",
   "execution_count": 9,
   "metadata": {},
   "outputs": [],
   "source": [
    "civil_data1 = scraper(civil_urls1)"
   ]
  },
  {
   "cell_type": "code",
   "execution_count": 12,
   "metadata": {},
   "outputs": [],
   "source": [
    "civil_data2 = scraper(civil_urls2)"
   ]
  },
  {
   "cell_type": "code",
   "execution_count": 18,
   "metadata": {},
   "outputs": [],
   "source": [
    "df4 = [civil_data1, civil_data2]\n",
    "civil_data = pd.concat(df4)\n",
    "civil_data = civil_data.reset_index(drop=True)"
   ]
  },
  {
   "cell_type": "code",
   "execution_count": 20,
   "metadata": {},
   "outputs": [
    {
     "data": {
      "text/plain": [
       "(262, 10)"
      ]
     },
     "execution_count": 20,
     "metadata": {},
     "output_type": "execute_result"
    }
   ],
   "source": [
    "civil_data.shape"
   ]
  },
  {
   "cell_type": "code",
   "execution_count": 23,
   "metadata": {},
   "outputs": [
    {
     "data": {
      "text/html": [
       "<div>\n",
       "<style scoped>\n",
       "    .dataframe tbody tr th:only-of-type {\n",
       "        vertical-align: middle;\n",
       "    }\n",
       "\n",
       "    .dataframe tbody tr th {\n",
       "        vertical-align: top;\n",
       "    }\n",
       "\n",
       "    .dataframe thead th {\n",
       "        text-align: right;\n",
       "    }\n",
       "</style>\n",
       "<table border=\"1\" class=\"dataframe\">\n",
       "  <thead>\n",
       "    <tr style=\"text-align: right;\">\n",
       "      <th></th>\n",
       "      <th>title</th>\n",
       "      <th>author</th>\n",
       "      <th>image</th>\n",
       "      <th>desc</th>\n",
       "      <th>download_link</th>\n",
       "      <th>pages</th>\n",
       "      <th>publisher</th>\n",
       "      <th>year</th>\n",
       "      <th>language</th>\n",
       "      <th>file</th>\n",
       "    </tr>\n",
       "  </thead>\n",
       "  <tbody>\n",
       "    <tr>\n",
       "      <td>0</td>\n",
       "      <td>Principles of Geotechnical Engineering</td>\n",
       "      <td>Braja M. Das</td>\n",
       "      <td>https://covers.zlibcdn2.com/covers100/books/62...</td>\n",
       "      <td>Unknown</td>\n",
       "      <td>https://1lib.in/dl/3515148/1bb8c6</td>\n",
       "      <td>845</td>\n",
       "      <td>Cengage</td>\n",
       "      <td>2018</td>\n",
       "      <td>english</td>\n",
       "      <td>PDF, 46.81 MB</td>\n",
       "    </tr>\n",
       "    <tr>\n",
       "      <td>1</td>\n",
       "      <td>Engineering Geology</td>\n",
       "      <td>Subinoy Gangopadhyay</td>\n",
       "      <td>https://covers.zlibcdn2.com/covers100/books/a5...</td>\n",
       "      <td>\\n                    The book begins with a d...</td>\n",
       "      <td>https://1lib.in/dl/2950507/4f557c</td>\n",
       "      <td>624</td>\n",
       "      <td>Oxford University Press</td>\n",
       "      <td>2013</td>\n",
       "      <td>english</td>\n",
       "      <td>PDF, 24.82 MB</td>\n",
       "    </tr>\n",
       "    <tr>\n",
       "      <td>2</td>\n",
       "      <td>Civil engineering hydraulics: essential theory...</td>\n",
       "      <td>R. E. Featherstone</td>\n",
       "      <td>https://covers.zlibcdn2.com/covers100/books/9f...</td>\n",
       "      <td>\\n                    The text provides an int...</td>\n",
       "      <td>https://1lib.in/dl/600624/f1d07f</td>\n",
       "      <td>409</td>\n",
       "      <td>Blackwell Science</td>\n",
       "      <td>1995</td>\n",
       "      <td>english</td>\n",
       "      <td>PDF, 10.69 MB</td>\n",
       "    </tr>\n",
       "  </tbody>\n",
       "</table>\n",
       "</div>"
      ],
      "text/plain": [
       "                                               title                author  \\\n",
       "0             Principles of Geotechnical Engineering          Braja M. Das   \n",
       "1                                Engineering Geology  Subinoy Gangopadhyay   \n",
       "2  Civil engineering hydraulics: essential theory...    R. E. Featherstone   \n",
       "\n",
       "                                               image  \\\n",
       "0  https://covers.zlibcdn2.com/covers100/books/62...   \n",
       "1  https://covers.zlibcdn2.com/covers100/books/a5...   \n",
       "2  https://covers.zlibcdn2.com/covers100/books/9f...   \n",
       "\n",
       "                                                desc  \\\n",
       "0                                            Unknown   \n",
       "1  \\n                    The book begins with a d...   \n",
       "2  \\n                    The text provides an int...   \n",
       "\n",
       "                       download_link pages                publisher  year  \\\n",
       "0  https://1lib.in/dl/3515148/1bb8c6   845                  Cengage  2018   \n",
       "1  https://1lib.in/dl/2950507/4f557c   624  Oxford University Press  2013   \n",
       "2   https://1lib.in/dl/600624/f1d07f   409        Blackwell Science  1995   \n",
       "\n",
       "  language           file  \n",
       "0  english  PDF, 46.81 MB  \n",
       "1  english  PDF, 24.82 MB  \n",
       "2  english  PDF, 10.69 MB  "
      ]
     },
     "execution_count": 23,
     "metadata": {},
     "output_type": "execute_result"
    }
   ],
   "source": [
    "civil_data.head(3)"
   ]
  },
  {
   "cell_type": "code",
   "execution_count": 24,
   "metadata": {},
   "outputs": [],
   "source": [
    "civil_data.to_csv('civil_data.csv', index=False)"
   ]
  },
  {
   "cell_type": "markdown",
   "metadata": {},
   "source": [
    "### 6. Scraping Electrical and Electronics Engineering book data"
   ]
  },
  {
   "cell_type": "code",
   "execution_count": 11,
   "metadata": {},
   "outputs": [],
   "source": [
    "eee_data1 = scraper(eee_urls1)"
   ]
  },
  {
   "cell_type": "code",
   "execution_count": 15,
   "metadata": {},
   "outputs": [],
   "source": [
    "eee_data2 = scraper(eee_urls2)"
   ]
  },
  {
   "cell_type": "code",
   "execution_count": 17,
   "metadata": {},
   "outputs": [],
   "source": [
    "df5 = [eee_data1, eee_data2]\n",
    "eee_data = pd.concat(df5)\n",
    "eee_data = eee_data.reset_index(drop=True)"
   ]
  },
  {
   "cell_type": "code",
   "execution_count": 18,
   "metadata": {},
   "outputs": [
    {
     "data": {
      "text/plain": [
       "(276, 10)"
      ]
     },
     "execution_count": 18,
     "metadata": {},
     "output_type": "execute_result"
    }
   ],
   "source": [
    "eee_data.shape"
   ]
  },
  {
   "cell_type": "code",
   "execution_count": 20,
   "metadata": {},
   "outputs": [
    {
     "data": {
      "text/html": [
       "<div>\n",
       "<style scoped>\n",
       "    .dataframe tbody tr th:only-of-type {\n",
       "        vertical-align: middle;\n",
       "    }\n",
       "\n",
       "    .dataframe tbody tr th {\n",
       "        vertical-align: top;\n",
       "    }\n",
       "\n",
       "    .dataframe thead th {\n",
       "        text-align: right;\n",
       "    }\n",
       "</style>\n",
       "<table border=\"1\" class=\"dataframe\">\n",
       "  <thead>\n",
       "    <tr style=\"text-align: right;\">\n",
       "      <th></th>\n",
       "      <th>title</th>\n",
       "      <th>author</th>\n",
       "      <th>image</th>\n",
       "      <th>desc</th>\n",
       "      <th>download_link</th>\n",
       "      <th>pages</th>\n",
       "      <th>publisher</th>\n",
       "      <th>year</th>\n",
       "      <th>language</th>\n",
       "      <th>file</th>\n",
       "    </tr>\n",
       "  </thead>\n",
       "  <tbody>\n",
       "    <tr>\n",
       "      <td>0</td>\n",
       "      <td>Electronic Devices and Circuit Theory (11th Ed...</td>\n",
       "      <td>Robert L. Boylestad</td>\n",
       "      <td>https://covers.zlibcdn2.com/covers100/books/1f...</td>\n",
       "      <td>Unknown</td>\n",
       "      <td>https://1lib.in/dl/2369321/e4ef13</td>\n",
       "      <td>927</td>\n",
       "      <td>Prentice Hall</td>\n",
       "      <td>2012</td>\n",
       "      <td>english</td>\n",
       "      <td>PDF, 25.92 MB</td>\n",
       "    </tr>\n",
       "    <tr>\n",
       "      <td>1</td>\n",
       "      <td>Electrical Circuit Theory and Technology</td>\n",
       "      <td>John Bird</td>\n",
       "      <td>https://covers.zlibcdn2.com/covers100/books/fe...</td>\n",
       "      <td>\\n                    A fully comprehensive te...</td>\n",
       "      <td>https://1lib.in/dl/2933697/27a762</td>\n",
       "      <td>859</td>\n",
       "      <td>Routledge</td>\n",
       "      <td>2017</td>\n",
       "      <td>english</td>\n",
       "      <td>PDF, 35.32 MB</td>\n",
       "    </tr>\n",
       "    <tr>\n",
       "      <td>2</td>\n",
       "      <td>Electronic devices and circuit theory</td>\n",
       "      <td>Boylestad</td>\n",
       "      <td>https://covers.zlibcdn2.com/covers100/books/86...</td>\n",
       "      <td>Unknown</td>\n",
       "      <td>https://1lib.in/dl/3553271/7d237f</td>\n",
       "      <td>922</td>\n",
       "      <td>Pearson</td>\n",
       "      <td>2014</td>\n",
       "      <td>english</td>\n",
       "      <td>PDF, 55.93 MB</td>\n",
       "    </tr>\n",
       "  </tbody>\n",
       "</table>\n",
       "</div>"
      ],
      "text/plain": [
       "                                               title               author  \\\n",
       "0  Electronic Devices and Circuit Theory (11th Ed...  Robert L. Boylestad   \n",
       "1           Electrical Circuit Theory and Technology            John Bird   \n",
       "2              Electronic devices and circuit theory            Boylestad   \n",
       "\n",
       "                                               image  \\\n",
       "0  https://covers.zlibcdn2.com/covers100/books/1f...   \n",
       "1  https://covers.zlibcdn2.com/covers100/books/fe...   \n",
       "2  https://covers.zlibcdn2.com/covers100/books/86...   \n",
       "\n",
       "                                                desc  \\\n",
       "0                                            Unknown   \n",
       "1  \\n                    A fully comprehensive te...   \n",
       "2                                            Unknown   \n",
       "\n",
       "                       download_link pages      publisher  year language  \\\n",
       "0  https://1lib.in/dl/2369321/e4ef13   927  Prentice Hall  2012  english   \n",
       "1  https://1lib.in/dl/2933697/27a762   859      Routledge  2017  english   \n",
       "2  https://1lib.in/dl/3553271/7d237f   922        Pearson  2014  english   \n",
       "\n",
       "            file  \n",
       "0  PDF, 25.92 MB  \n",
       "1  PDF, 35.32 MB  \n",
       "2  PDF, 55.93 MB  "
      ]
     },
     "execution_count": 20,
     "metadata": {},
     "output_type": "execute_result"
    }
   ],
   "source": [
    "eee_data.head(3)"
   ]
  },
  {
   "cell_type": "code",
   "execution_count": 22,
   "metadata": {},
   "outputs": [],
   "source": [
    "eee_data.to_csv('eee_data.csv', index=False)"
   ]
  },
  {
   "cell_type": "markdown",
   "metadata": {},
   "source": [
    "### 7. Agricultural Engineering book data\n"
   ]
  },
  {
   "cell_type": "code",
   "execution_count": 4,
   "metadata": {},
   "outputs": [],
   "source": [
    "agri_data1 = scraper(agri_urls1)"
   ]
  },
  {
   "cell_type": "code",
   "execution_count": 6,
   "metadata": {},
   "outputs": [],
   "source": [
    "agri_data2 = scraper(agri_urls2)"
   ]
  },
  {
   "cell_type": "code",
   "execution_count": 9,
   "metadata": {},
   "outputs": [],
   "source": [
    "df6 = [agri_data1, agri_data2]\n",
    "agri_data = pd.concat(df6)\n",
    "agri_data = agri_data.reset_index(drop=True)"
   ]
  },
  {
   "cell_type": "code",
   "execution_count": 10,
   "metadata": {},
   "outputs": [
    {
     "data": {
      "text/plain": [
       "(155, 10)"
      ]
     },
     "execution_count": 10,
     "metadata": {},
     "output_type": "execute_result"
    }
   ],
   "source": [
    "agri_data.shape"
   ]
  },
  {
   "cell_type": "code",
   "execution_count": 12,
   "metadata": {},
   "outputs": [
    {
     "data": {
      "text/html": [
       "<div>\n",
       "<style scoped>\n",
       "    .dataframe tbody tr th:only-of-type {\n",
       "        vertical-align: middle;\n",
       "    }\n",
       "\n",
       "    .dataframe tbody tr th {\n",
       "        vertical-align: top;\n",
       "    }\n",
       "\n",
       "    .dataframe thead th {\n",
       "        text-align: right;\n",
       "    }\n",
       "</style>\n",
       "<table border=\"1\" class=\"dataframe\">\n",
       "  <thead>\n",
       "    <tr style=\"text-align: right;\">\n",
       "      <th></th>\n",
       "      <th>title</th>\n",
       "      <th>author</th>\n",
       "      <th>image</th>\n",
       "      <th>desc</th>\n",
       "      <th>download_link</th>\n",
       "      <th>pages</th>\n",
       "      <th>publisher</th>\n",
       "      <th>year</th>\n",
       "      <th>language</th>\n",
       "      <th>file</th>\n",
       "    </tr>\n",
       "  </thead>\n",
       "  <tbody>\n",
       "    <tr>\n",
       "      <td>0</td>\n",
       "      <td>Soil Mechanics of Earthworks, Foundations and ...</td>\n",
       "      <td></td>\n",
       "      <td>https://covers.zlibcdn2.com/covers100/books/01...</td>\n",
       "      <td>\\n                    This is the third volume...</td>\n",
       "      <td>https://1lib.in/dl/2279969/9cd462</td>\n",
       "      <td>354</td>\n",
       "      <td>Elsevier Science</td>\n",
       "      <td>1988</td>\n",
       "      <td>english</td>\n",
       "      <td>PDF, 9.35 MB</td>\n",
       "    </tr>\n",
       "    <tr>\n",
       "      <td>1</td>\n",
       "      <td>Foundation Engineering: Design and Constructio...</td>\n",
       "      <td>B.B.K. Huat</td>\n",
       "      <td>https://covers.zlibcdn2.com/covers100/books/1b...</td>\n",
       "      <td>\\n                    Residual soils are found...</td>\n",
       "      <td>https://1lib.in/dl/1247565/f9e712</td>\n",
       "      <td>256</td>\n",
       "      <td>Taylor &amp; Francis</td>\n",
       "      <td>2006</td>\n",
       "      <td>english</td>\n",
       "      <td>PDF, 86.52 MB</td>\n",
       "    </tr>\n",
       "    <tr>\n",
       "      <td>2</td>\n",
       "      <td>Practical Problems in Soil Mechanics and Found...</td>\n",
       "      <td>Sheng Y. Peng</td>\n",
       "      <td>https://covers.zlibcdn2.com/covers100/books/7d...</td>\n",
       "      <td>Unknown</td>\n",
       "      <td>https://1lib.in/dl/2800423/3ccf77</td>\n",
       "      <td>346</td>\n",
       "      <td>Elsevier Science Ltd</td>\n",
       "      <td>1985</td>\n",
       "      <td>english</td>\n",
       "      <td>PDF, 9.86 MB</td>\n",
       "    </tr>\n",
       "  </tbody>\n",
       "</table>\n",
       "</div>"
      ],
      "text/plain": [
       "                                               title         author  \\\n",
       "0  Soil Mechanics of Earthworks, Foundations and ...                  \n",
       "1  Foundation Engineering: Design and Constructio...    B.B.K. Huat   \n",
       "2  Practical Problems in Soil Mechanics and Found...  Sheng Y. Peng   \n",
       "\n",
       "                                               image  \\\n",
       "0  https://covers.zlibcdn2.com/covers100/books/01...   \n",
       "1  https://covers.zlibcdn2.com/covers100/books/1b...   \n",
       "2  https://covers.zlibcdn2.com/covers100/books/7d...   \n",
       "\n",
       "                                                desc  \\\n",
       "0  \\n                    This is the third volume...   \n",
       "1  \\n                    Residual soils are found...   \n",
       "2                                            Unknown   \n",
       "\n",
       "                       download_link pages             publisher  year  \\\n",
       "0  https://1lib.in/dl/2279969/9cd462   354      Elsevier Science  1988   \n",
       "1  https://1lib.in/dl/1247565/f9e712   256      Taylor & Francis  2006   \n",
       "2  https://1lib.in/dl/2800423/3ccf77   346  Elsevier Science Ltd  1985   \n",
       "\n",
       "  language           file  \n",
       "0  english   PDF, 9.35 MB  \n",
       "1  english  PDF, 86.52 MB  \n",
       "2  english   PDF, 9.86 MB  "
      ]
     },
     "execution_count": 12,
     "metadata": {},
     "output_type": "execute_result"
    }
   ],
   "source": [
    "agri_data.head(3)"
   ]
  },
  {
   "cell_type": "code",
   "execution_count": 13,
   "metadata": {},
   "outputs": [],
   "source": [
    "agri_data.to_csv('agri_data.csv', index=False)"
   ]
  },
  {
   "cell_type": "markdown",
   "metadata": {},
   "source": [
    "### 8. Bio-Medical Engineering book data"
   ]
  },
  {
   "cell_type": "code",
   "execution_count": 6,
   "metadata": {},
   "outputs": [],
   "source": [
    "bio_data = scraper(bio_urls1)"
   ]
  },
  {
   "cell_type": "code",
   "execution_count": 8,
   "metadata": {},
   "outputs": [
    {
     "data": {
      "text/plain": [
       "(121, 10)"
      ]
     },
     "execution_count": 8,
     "metadata": {},
     "output_type": "execute_result"
    }
   ],
   "source": [
    "bio_data.shape"
   ]
  },
  {
   "cell_type": "code",
   "execution_count": 10,
   "metadata": {},
   "outputs": [
    {
     "data": {
      "text/html": [
       "<div>\n",
       "<style scoped>\n",
       "    .dataframe tbody tr th:only-of-type {\n",
       "        vertical-align: middle;\n",
       "    }\n",
       "\n",
       "    .dataframe tbody tr th {\n",
       "        vertical-align: top;\n",
       "    }\n",
       "\n",
       "    .dataframe thead th {\n",
       "        text-align: right;\n",
       "    }\n",
       "</style>\n",
       "<table border=\"1\" class=\"dataframe\">\n",
       "  <thead>\n",
       "    <tr style=\"text-align: right;\">\n",
       "      <th></th>\n",
       "      <th>title</th>\n",
       "      <th>author</th>\n",
       "      <th>image</th>\n",
       "      <th>desc</th>\n",
       "      <th>download_link</th>\n",
       "      <th>pages</th>\n",
       "      <th>publisher</th>\n",
       "      <th>year</th>\n",
       "      <th>language</th>\n",
       "      <th>file</th>\n",
       "    </tr>\n",
       "  </thead>\n",
       "  <tbody>\n",
       "    <tr>\n",
       "      <td>0</td>\n",
       "      <td>The Human Brain Book: An Illustrated Guide to ...</td>\n",
       "      <td>DK</td>\n",
       "      <td>https://covers.zlibcdn2.com/covers100/books/b9...</td>\n",
       "      <td>\\n                    This award-winning scien...</td>\n",
       "      <td>https://1lib.in/dl/3657909/65967b</td>\n",
       "      <td>266</td>\n",
       "      <td>DK Publishing (Dorling Kindersley)</td>\n",
       "      <td>2019</td>\n",
       "      <td>english</td>\n",
       "      <td>PDF, 65.54 MB</td>\n",
       "    </tr>\n",
       "    <tr>\n",
       "      <td>1</td>\n",
       "      <td>Vander’s Human Physiology</td>\n",
       "      <td>Eric Widmaier</td>\n",
       "      <td>https://covers.zlibcdn2.com/covers100/books/ae...</td>\n",
       "      <td>\\n                    Eric Widmaier (Boston Un...</td>\n",
       "      <td>https://1lib.in/dl/3610016/2d7bf5</td>\n",
       "      <td>801</td>\n",
       "      <td>McGraw-Hill Education</td>\n",
       "      <td>2018</td>\n",
       "      <td>english</td>\n",
       "      <td>PDF, 116.15 MB</td>\n",
       "    </tr>\n",
       "    <tr>\n",
       "      <td>2</td>\n",
       "      <td>Strength Training Anatomy - 2nd Edition</td>\n",
       "      <td>Frederic Delavier</td>\n",
       "      <td>https://covers.zlibcdn2.com/covers100/books/7f...</td>\n",
       "      <td>\\n                    Discover for yourself th...</td>\n",
       "      <td>https://1lib.in/dl/662721/21b48a</td>\n",
       "      <td>151</td>\n",
       "      <td>Human Kinetics</td>\n",
       "      <td>2005</td>\n",
       "      <td>english</td>\n",
       "      <td>PDF, 21.93 MB</td>\n",
       "    </tr>\n",
       "  </tbody>\n",
       "</table>\n",
       "</div>"
      ],
      "text/plain": [
       "                                               title             author  \\\n",
       "0  The Human Brain Book: An Illustrated Guide to ...                 DK   \n",
       "1                          Vander’s Human Physiology      Eric Widmaier   \n",
       "2            Strength Training Anatomy - 2nd Edition  Frederic Delavier   \n",
       "\n",
       "                                               image  \\\n",
       "0  https://covers.zlibcdn2.com/covers100/books/b9...   \n",
       "1  https://covers.zlibcdn2.com/covers100/books/ae...   \n",
       "2  https://covers.zlibcdn2.com/covers100/books/7f...   \n",
       "\n",
       "                                                desc  \\\n",
       "0  \\n                    This award-winning scien...   \n",
       "1  \\n                    Eric Widmaier (Boston Un...   \n",
       "2  \\n                    Discover for yourself th...   \n",
       "\n",
       "                       download_link pages  \\\n",
       "0  https://1lib.in/dl/3657909/65967b   266   \n",
       "1  https://1lib.in/dl/3610016/2d7bf5   801   \n",
       "2   https://1lib.in/dl/662721/21b48a   151   \n",
       "\n",
       "                            publisher  year language            file  \n",
       "0  DK Publishing (Dorling Kindersley)  2019  english   PDF, 65.54 MB  \n",
       "1               McGraw-Hill Education  2018  english  PDF, 116.15 MB  \n",
       "2                      Human Kinetics  2005  english   PDF, 21.93 MB  "
      ]
     },
     "execution_count": 10,
     "metadata": {},
     "output_type": "execute_result"
    }
   ],
   "source": [
    "bio_data.head(3)"
   ]
  },
  {
   "cell_type": "code",
   "execution_count": 11,
   "metadata": {},
   "outputs": [],
   "source": [
    "bio_data.to_csv('bio_data.csv', index=False)"
   ]
  },
  {
   "cell_type": "markdown",
   "metadata": {},
   "source": [
    "### 9. Robotics and Automation Engineering books data"
   ]
  },
  {
   "cell_type": "code",
   "execution_count": 14,
   "metadata": {},
   "outputs": [],
   "source": [
    "robotic_data = scraper(robotic_urls1)"
   ]
  },
  {
   "cell_type": "code",
   "execution_count": 16,
   "metadata": {},
   "outputs": [
    {
     "data": {
      "text/plain": [
       "(147, 10)"
      ]
     },
     "execution_count": 16,
     "metadata": {},
     "output_type": "execute_result"
    }
   ],
   "source": [
    "robotic_data.shape"
   ]
  },
  {
   "cell_type": "code",
   "execution_count": 17,
   "metadata": {},
   "outputs": [
    {
     "data": {
      "text/html": [
       "<div>\n",
       "<style scoped>\n",
       "    .dataframe tbody tr th:only-of-type {\n",
       "        vertical-align: middle;\n",
       "    }\n",
       "\n",
       "    .dataframe tbody tr th {\n",
       "        vertical-align: top;\n",
       "    }\n",
       "\n",
       "    .dataframe thead th {\n",
       "        text-align: right;\n",
       "    }\n",
       "</style>\n",
       "<table border=\"1\" class=\"dataframe\">\n",
       "  <thead>\n",
       "    <tr style=\"text-align: right;\">\n",
       "      <th></th>\n",
       "      <th>title</th>\n",
       "      <th>author</th>\n",
       "      <th>image</th>\n",
       "      <th>desc</th>\n",
       "      <th>download_link</th>\n",
       "      <th>pages</th>\n",
       "      <th>publisher</th>\n",
       "      <th>year</th>\n",
       "      <th>language</th>\n",
       "      <th>file</th>\n",
       "    </tr>\n",
       "  </thead>\n",
       "  <tbody>\n",
       "    <tr>\n",
       "      <td>0</td>\n",
       "      <td>Control Systems Engineering</td>\n",
       "      <td>Norman S. Nise</td>\n",
       "      <td>https://covers.zlibcdn2.com/covers100/books/d8...</td>\n",
       "      <td>\\nControl Systems Engineering, 7th Edition has...</td>\n",
       "      <td>https://1lib.in/dl/2648589/e98168</td>\n",
       "      <td>944</td>\n",
       "      <td>Wiley</td>\n",
       "      <td>2015</td>\n",
       "      <td>english</td>\n",
       "      <td>PDF, 37.95 MB</td>\n",
       "    </tr>\n",
       "    <tr>\n",
       "      <td>1</td>\n",
       "      <td>Design of Embedded Robust Control Systems Usin...</td>\n",
       "      <td>Petko Hristov Petkov</td>\n",
       "      <td>https://covers.zlibcdn2.com/covers100/books/5f...</td>\n",
       "      <td>\\n                    This book explores the i...</td>\n",
       "      <td>https://1lib.in/dl/3614456/c1f56c</td>\n",
       "      <td>Unknown</td>\n",
       "      <td>Institution of Engineering &amp; Technology</td>\n",
       "      <td>2018</td>\n",
       "      <td>english</td>\n",
       "      <td>PDF, 48.98 MB</td>\n",
       "    </tr>\n",
       "    <tr>\n",
       "      <td>2</td>\n",
       "      <td>Linear Control System Analysis and Design with...</td>\n",
       "      <td>Houpis C.H. and Sheldon S.N.</td>\n",
       "      <td>https://covers.zlibcdn2.com/covers100/books/42...</td>\n",
       "      <td>\\n                    Constantine H. Houpis an...</td>\n",
       "      <td>https://1lib.in/dl/3014850/500879</td>\n",
       "      <td>Unknown</td>\n",
       "      <td>Unknown</td>\n",
       "      <td>Unknown</td>\n",
       "      <td>english</td>\n",
       "      <td>PDF, 16.72 MB</td>\n",
       "    </tr>\n",
       "  </tbody>\n",
       "</table>\n",
       "</div>"
      ],
      "text/plain": [
       "                                               title  \\\n",
       "0                        Control Systems Engineering   \n",
       "1  Design of Embedded Robust Control Systems Usin...   \n",
       "2  Linear Control System Analysis and Design with...   \n",
       "\n",
       "                         author  \\\n",
       "0                Norman S. Nise   \n",
       "1          Petko Hristov Petkov   \n",
       "2  Houpis C.H. and Sheldon S.N.   \n",
       "\n",
       "                                               image  \\\n",
       "0  https://covers.zlibcdn2.com/covers100/books/d8...   \n",
       "1  https://covers.zlibcdn2.com/covers100/books/5f...   \n",
       "2  https://covers.zlibcdn2.com/covers100/books/42...   \n",
       "\n",
       "                                                desc  \\\n",
       "0  \\nControl Systems Engineering, 7th Edition has...   \n",
       "1  \\n                    This book explores the i...   \n",
       "2  \\n                    Constantine H. Houpis an...   \n",
       "\n",
       "                       download_link    pages  \\\n",
       "0  https://1lib.in/dl/2648589/e98168      944   \n",
       "1  https://1lib.in/dl/3614456/c1f56c  Unknown   \n",
       "2  https://1lib.in/dl/3014850/500879  Unknown   \n",
       "\n",
       "                                 publisher     year language           file  \n",
       "0                                    Wiley     2015  english  PDF, 37.95 MB  \n",
       "1  Institution of Engineering & Technology     2018  english  PDF, 48.98 MB  \n",
       "2                                  Unknown  Unknown  english  PDF, 16.72 MB  "
      ]
     },
     "execution_count": 17,
     "metadata": {},
     "output_type": "execute_result"
    }
   ],
   "source": [
    "robotic_data.head(3)"
   ]
  },
  {
   "cell_type": "code",
   "execution_count": 18,
   "metadata": {},
   "outputs": [],
   "source": [
    "robotic_data.to_csv('robotic_data.csv', index=False)"
   ]
  },
  {
   "cell_type": "markdown",
   "metadata": {},
   "source": [
    "### 10. Additional book data"
   ]
  },
  {
   "cell_type": "code",
   "execution_count": 9,
   "metadata": {},
   "outputs": [],
   "source": [
    "additional_data = scraper(additional_urls)"
   ]
  },
  {
   "cell_type": "code",
   "execution_count": 10,
   "metadata": {},
   "outputs": [
    {
     "data": {
      "text/plain": [
       "(80, 10)"
      ]
     },
     "execution_count": 10,
     "metadata": {},
     "output_type": "execute_result"
    }
   ],
   "source": [
    "additional_data.shape"
   ]
  },
  {
   "cell_type": "code",
   "execution_count": 12,
   "metadata": {},
   "outputs": [
    {
     "data": {
      "text/html": [
       "<div>\n",
       "<style scoped>\n",
       "    .dataframe tbody tr th:only-of-type {\n",
       "        vertical-align: middle;\n",
       "    }\n",
       "\n",
       "    .dataframe tbody tr th {\n",
       "        vertical-align: top;\n",
       "    }\n",
       "\n",
       "    .dataframe thead th {\n",
       "        text-align: right;\n",
       "    }\n",
       "</style>\n",
       "<table border=\"1\" class=\"dataframe\">\n",
       "  <thead>\n",
       "    <tr style=\"text-align: right;\">\n",
       "      <th></th>\n",
       "      <th>title</th>\n",
       "      <th>author</th>\n",
       "      <th>image</th>\n",
       "      <th>desc</th>\n",
       "      <th>download_link</th>\n",
       "      <th>pages</th>\n",
       "      <th>publisher</th>\n",
       "      <th>year</th>\n",
       "      <th>language</th>\n",
       "      <th>file</th>\n",
       "    </tr>\n",
       "  </thead>\n",
       "  <tbody>\n",
       "    <tr>\n",
       "      <th>0</th>\n",
       "      <td>Implementing An Information Security Managemen...</td>\n",
       "      <td>Abhishek Chopra</td>\n",
       "      <td>https://covers.zlibcdn2.com/covers100/books/ad...</td>\n",
       "      <td>\\n                    Discover the simple step...</td>\n",
       "      <td>Unknown</td>\n",
       "      <td>284</td>\n",
       "      <td>Apress</td>\n",
       "      <td>2020</td>\n",
       "      <td>english</td>\n",
       "      <td>PDF, 6.77 MB</td>\n",
       "    </tr>\n",
       "    <tr>\n",
       "      <th>1</th>\n",
       "      <td>IT Auditing Using Controls to Protect Informat...</td>\n",
       "      <td>Mike Kegerreis</td>\n",
       "      <td>https://covers.zlibcdn2.com/covers100/books/73...</td>\n",
       "      <td>\\nSecure Your Systems Using the Latest IT Audi...</td>\n",
       "      <td>https://1lib.in/dl/5328720/2e1efe</td>\n",
       "      <td>1198</td>\n",
       "      <td>McGraw-Hill Education</td>\n",
       "      <td>2020</td>\n",
       "      <td>english</td>\n",
       "      <td>PDF, 20.90 MB</td>\n",
       "    </tr>\n",
       "    <tr>\n",
       "      <th>2</th>\n",
       "      <td>Cyber Security: The Lifeline Of Information An...</td>\n",
       "      <td>Ramjee Prasad</td>\n",
       "      <td>https://covers.zlibcdn2.com/covers100/books/f3...</td>\n",
       "      <td>\\n                    This book discusses a br...</td>\n",
       "      <td>Unknown</td>\n",
       "      <td>295</td>\n",
       "      <td>Springer</td>\n",
       "      <td>2020</td>\n",
       "      <td>english</td>\n",
       "      <td>PDF, 7.29 MB</td>\n",
       "    </tr>\n",
       "  </tbody>\n",
       "</table>\n",
       "</div>"
      ],
      "text/plain": [
       "                                               title           author  \\\n",
       "0  Implementing An Information Security Managemen...  Abhishek Chopra   \n",
       "1  IT Auditing Using Controls to Protect Informat...   Mike Kegerreis   \n",
       "2  Cyber Security: The Lifeline Of Information An...    Ramjee Prasad   \n",
       "\n",
       "                                               image  \\\n",
       "0  https://covers.zlibcdn2.com/covers100/books/ad...   \n",
       "1  https://covers.zlibcdn2.com/covers100/books/73...   \n",
       "2  https://covers.zlibcdn2.com/covers100/books/f3...   \n",
       "\n",
       "                                                desc  \\\n",
       "0  \\n                    Discover the simple step...   \n",
       "1  \\nSecure Your Systems Using the Latest IT Audi...   \n",
       "2  \\n                    This book discusses a br...   \n",
       "\n",
       "                       download_link pages              publisher  year  \\\n",
       "0                            Unknown   284                 Apress  2020   \n",
       "1  https://1lib.in/dl/5328720/2e1efe  1198  McGraw-Hill Education  2020   \n",
       "2                            Unknown   295               Springer  2020   \n",
       "\n",
       "  language           file  \n",
       "0  english   PDF, 6.77 MB  \n",
       "1  english  PDF, 20.90 MB  \n",
       "2  english   PDF, 7.29 MB  "
      ]
     },
     "execution_count": 12,
     "metadata": {},
     "output_type": "execute_result"
    }
   ],
   "source": [
    "additional_data.head(3)"
   ]
  },
  {
   "cell_type": "code",
   "execution_count": 13,
   "metadata": {},
   "outputs": [],
   "source": [
    "additional_data.to_csv('additional_data.csv', index=False)"
   ]
  }
 ],
 "metadata": {
  "kernelspec": {
   "display_name": "Python 3",
   "language": "python",
   "name": "python3"
  },
  "language_info": {
   "codemirror_mode": {
    "name": "ipython",
    "version": 3
   },
   "file_extension": ".py",
   "mimetype": "text/x-python",
   "name": "python",
   "nbconvert_exporter": "python",
   "pygments_lexer": "ipython3",
   "version": "3.9.1"
  }
 },
 "nbformat": 4,
 "nbformat_minor": 2
}
